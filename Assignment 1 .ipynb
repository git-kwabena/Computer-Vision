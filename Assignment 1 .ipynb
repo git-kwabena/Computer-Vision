{
 "cells": [
  {
   "cell_type": "code",
   "execution_count": null,
   "metadata": {},
   "outputs": [],
   "source": [
    "#Question 1\n",
    "#Program to display the square root of even numbers between 1 and 50\n",
    "print(\"Square roots of even numbers between 2 and 50:\")\n",
    "print(\"x \\t sqrt(x)\")\n",
    "for x in range(1,50):\n",
    "    print(str(x)+ \"\\t\" +str(x**0.5))"
   ]
  },
  {
   "cell_type": "code",
   "execution_count": null,
   "metadata": {},
   "outputs": [],
   "source": [
    "#Question 2\n",
    "import random\n",
    "\n",
    "lowerb = input(\"Enter lower boundary:\")\n",
    "upperb = input(\"Enter upper boundary:\")\n",
    "start = int(lowerb)\n",
    "end = int(upperb)\n",
    "def Rand(start,end,num):\n",
    "    res = []\n",
    "    \n",
    "    for j in range(num):\n",
    "        res.append(random.randint(start,end))\n",
    "    return res\n",
    "num = 10\n",
    "list = Rand(start,end,num)\n",
    "print(list)"
   ]
  },
  {
   "cell_type": "code",
   "execution_count": null,
   "metadata": {},
   "outputs": [],
   "source": [
    "#Question 3\n",
    "\n",
    "def _sum(list):\n",
    "    sum = 0\n",
    "    for i in list:\n",
    "        sum = sum + i\n",
    "    return(sum)  \n",
    "n = len(list)\n",
    "ans = _sum(list)\n",
    "\n",
    "print(\"Sum of elements in the array is \", ans)\n",
    "\n",
    "def multiply(list):\n",
    "    multiple = 1\n",
    "    for k in list:\n",
    "        multiple = multiple * k\n",
    "    return multiple\n",
    "ans2 = multiply(list)\n",
    "print(\"Product of elements in the array is\",ans2)\n",
    "\n"
   ]
  },
  {
   "cell_type": "code",
   "execution_count": null,
   "metadata": {},
   "outputs": [],
   "source": [
    "#Question 4 \n",
    "def collatz(number):\n",
    "\n",
    "    if number % 2 == 0:\n",
    "        print(number // 2)\n",
    "        return number // 2\n",
    "\n",
    "    elif number % 2 == 1:\n",
    "        result = 3 * number + 1\n",
    "        print(result)\n",
    "        return result\n",
    "\n",
    "n = input(\"Give me a number: \")\n",
    "\n",
    "while n != 1:\n",
    "    n = collatz(int(n))"
   ]
  },
  {
   "cell_type": "code",
   "execution_count": null,
   "metadata": {},
   "outputs": [],
   "source": []
  },
  {
   "cell_type": "code",
   "execution_count": null,
   "metadata": {},
   "outputs": [],
   "source": []
  }
 ],
 "metadata": {
  "kernelspec": {
   "display_name": "Python 3",
   "language": "python",
   "name": "python3"
  },
  "language_info": {
   "codemirror_mode": {
    "name": "ipython",
    "version": 3
   },
   "file_extension": ".py",
   "mimetype": "text/x-python",
   "name": "python",
   "nbconvert_exporter": "python",
   "pygments_lexer": "ipython3",
   "version": "3.8.5"
  }
 },
 "nbformat": 4,
 "nbformat_minor": 4
}
