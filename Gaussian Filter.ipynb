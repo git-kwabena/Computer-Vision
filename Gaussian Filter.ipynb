{
 "cells": [
  {
   "cell_type": "code",
   "execution_count": 1,
   "metadata": {},
   "outputs": [],
   "source": [
    "def gaussian_filter(size, sigma=1, verbose=False):\n",
    " \n",
    "    filter_1D = np.linspace(-(size // 2), size // 2, size)\n",
    "    for i in range(size):\n",
    "        filter_1D[i] = dnorm(filter_1D[i], 0, sigma)\n",
    "    filter_2D = np.outer(filter_1D.T, filter_1D.T)\n",
    " \n",
    "    filter_2D *= 1.0 / filter_2D.max()\n",
    " \n",
    "    if verbose:\n",
    "        plt.imshow(filter_2D, interpolation='none',cmap='gray')\n",
    "        plt.title(\"Image\")\n",
    "        plt.show()\n",
    " \n",
    "    return filter_2D"
   ]
  },
  {
   "cell_type": "code",
   "execution_count": null,
   "metadata": {},
   "outputs": [],
   "source": []
  }
 ],
 "metadata": {
  "kernelspec": {
   "display_name": "Python 3",
   "language": "python",
   "name": "python3"
  },
  "language_info": {
   "codemirror_mode": {
    "name": "ipython",
    "version": 3
   },
   "file_extension": ".py",
   "mimetype": "text/x-python",
   "name": "python",
   "nbconvert_exporter": "python",
   "pygments_lexer": "ipython3",
   "version": "3.8.5"
  }
 },
 "nbformat": 4,
 "nbformat_minor": 4
}
