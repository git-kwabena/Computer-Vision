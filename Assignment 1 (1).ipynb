{
 "cells": [
  {
   "cell_type": "code",
   "execution_count": 3,
   "metadata": {},
   "outputs": [
    {
     "name": "stdout",
     "output_type": "stream",
     "text": [
      "Square roots of even numbers between 2 and 50:\n",
      "x \t sqrt(x)\n",
      "2\t1.4142135623730951\n",
      "4\t2.0\n",
      "6\t2.449489742783178\n",
      "8\t2.8284271247461903\n",
      "10\t3.1622776601683795\n",
      "12\t3.4641016151377544\n",
      "14\t3.7416573867739413\n",
      "16\t4.0\n",
      "18\t4.242640687119285\n",
      "20\t4.47213595499958\n",
      "22\t4.69041575982343\n",
      "24\t4.898979485566356\n",
      "26\t5.0990195135927845\n",
      "28\t5.291502622129181\n",
      "30\t5.477225575051661\n",
      "32\t5.656854249492381\n",
      "34\t5.830951894845301\n",
      "36\t6.0\n",
      "38\t6.164414002968976\n",
      "40\t6.324555320336759\n",
      "42\t6.48074069840786\n",
      "44\t6.6332495807108\n",
      "46\t6.782329983125268\n",
      "48\t6.928203230275509\n"
     ]
    }
   ],
   "source": [
    "#Question 1\n",
    "#Program to display the square root of even numbers between 1 and 50\n",
    "print(\"Square roots of even numbers between 2 and 50:\")\n",
    "print(\"x \\t sqrt(x)\")\n",
    "for x in range(1,50):\n",
    "    if x % 2 == 0:\n",
    "        print(str(x)+ \"\\t\" +str(x**0.5))"
   ]
  },
  {
   "cell_type": "code",
   "execution_count": null,
   "metadata": {},
   "outputs": [],
   "source": [
    "#Question 2\n",
    "import random\n",
    "\n",
    "lowerb = input(\"Enter lower boundary:\")\n",
    "upperb = input(\"Enter upper boundary:\")\n",
    "start = int(lowerb)\n",
    "end = int(upperb)\n",
    "def Rand(start,end,num):\n",
    "    res = []\n",
    "    \n",
    "    for j in range(num):\n",
    "        res.append(random.randint(start,end))\n",
    "    return res\n",
    "num = 10\n",
    "list = Rand(start,end,num)\n",
    "print(list)"
   ]
  },
  {
   "cell_type": "code",
   "execution_count": null,
   "metadata": {},
   "outputs": [],
   "source": [
    "#Question 3\n",
    "\n",
    "def _sum(list):\n",
    "    sum = 0\n",
    "    for i in list:\n",
    "        sum = sum + i\n",
    "    return(sum)  \n",
    "n = len(list)\n",
    "ans = _sum(list)\n",
    "\n",
    "print(\"Sum of elements in the array is \", ans)\n",
    "\n",
    "def multiply(list):\n",
    "    multiple = 1\n",
    "    for k in list:\n",
    "        multiple = multiple * k\n",
    "    return multiple\n",
    "ans2 = multiply(list)\n",
    "print(\"Product of elements in the array is\",ans2)\n",
    "\n"
   ]
  },
  {
   "cell_type": "code",
   "execution_count": null,
   "metadata": {},
   "outputs": [],
   "source": [
    "#Question 4 \n",
    "def collatz(number):\n",
    "\n",
    "    if number % 2 == 0:\n",
    "        print(number // 2)\n",
    "        return number // 2\n",
    "\n",
    "    elif number % 2 == 1:\n",
    "        result = 3 * number + 1\n",
    "        print(result)\n",
    "        return result\n",
    "\n",
    "n = input(\"Give me a number: \")\n",
    "\n",
    "while n != 1:\n",
    "    n = collatz(int(n))"
   ]
  }
 ],
 "metadata": {
  "kernelspec": {
   "display_name": "Python 3",
   "language": "python",
   "name": "python3"
  },
  "language_info": {
   "codemirror_mode": {
    "name": "ipython",
    "version": 3
   },
   "file_extension": ".py",
   "mimetype": "text/x-python",
   "name": "python",
   "nbconvert_exporter": "python",
   "pygments_lexer": "ipython3",
   "version": "3.8.5"
  }
 },
 "nbformat": 4,
 "nbformat_minor": 4
}
